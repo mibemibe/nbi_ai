{
 "cells": [
  {
   "cell_type": "markdown",
   "id": "dacf74e6",
   "metadata": {},
   "source": [
    "# NumPy"
   ]
  },
  {
   "cell_type": "markdown",
   "id": "01b2bf34",
   "metadata": {},
   "source": [
    "Read the links: https://numpy.org/doc/stable/user/quickstart.html  and https://numpy.org/doc/stable/user/basics.broadcasting.html  before solving the exercises. "
   ]
  },
  {
   "cell_type": "code",
   "execution_count": 47,
   "id": "1f79e4a6",
   "metadata": {},
   "outputs": [],
   "source": [
    "import numpy as np"
   ]
  },
  {
   "cell_type": "markdown",
   "id": "7dae6889",
   "metadata": {},
   "source": [
    "### Print out the dimension (number of axes), shape, size and the datatype of the matrix A."
   ]
  },
  {
   "cell_type": "code",
   "execution_count": 49,
   "id": "7b3678cd",
   "metadata": {},
   "outputs": [],
   "source": [
    "A = np.arange(1, 16).reshape(3,5)"
   ]
  },
  {
   "cell_type": "code",
   "execution_count": 51,
   "id": "cef5d3ff-edc4-492d-b32f-be8647bdbb80",
   "metadata": {},
   "outputs": [
    {
     "name": "stdout",
     "output_type": "stream",
     "text": [
      "Number of axes: 2\n",
      "Shape: (3, 5)\n",
      "Size: 15\n",
      "Datatype: int32\n"
     ]
    }
   ],
   "source": [
    "print (\"Number of axes:\",A.ndim)\n",
    "print (\"Shape:\",A.shape)\n",
    "print (\"Size:\",A.size)\n",
    "print (\"Datatype:\",A.dtype)"
   ]
  },
  {
   "cell_type": "markdown",
   "id": "e56d2a96",
   "metadata": {},
   "source": [
    "### Do the following computations on the matrices B and C: \n",
    "* Elementwise subtraction. \n",
    "* Elementwise multiplication. \n",
    "* Matrix multiplication (by default you should use the @ operator)."
   ]
  },
  {
   "cell_type": "code",
   "execution_count": 105,
   "id": "a7053fbb",
   "metadata": {},
   "outputs": [
    {
     "name": "stdout",
     "output_type": "stream",
     "text": [
      "Matris B:\n",
      " [[1 2 3]\n",
      " [4 5 6]\n",
      " [7 8 9]]\n",
      "Matris C:\n",
      " [[2. 2. 2.]\n",
      " [2. 2. 2.]\n",
      " [2. 2. 2.]]\n"
     ]
    }
   ],
   "source": [
    "import numpy as np\n",
    "B = np.arange(1, 10).reshape(3, 3)\n",
    "C = np.ones((3, 3))*2\n",
    "\n",
    "print(\"Matrix B:\\n\",B)\n",
    "print(\"Matrix C:\\n\",C)"
   ]
  },
  {
   "cell_type": "code",
   "execution_count": 125,
   "id": "3cd794ae",
   "metadata": {
    "scrolled": true
   },
   "outputs": [
    {
     "name": "stdout",
     "output_type": "stream",
     "text": [
      "Elementwise Subtraction:\n",
      " [[-1.  0.  1.]\n",
      " [ 2.  3.  4.]\n",
      " [ 5.  6.  7.]]\n",
      "Elementwise Multiplication:\n",
      " [[ 2.  4.  6.]\n",
      " [ 8. 10. 12.]\n",
      " [14. 16. 18.]]\n",
      "Matrix Multiplication:\n",
      " [[12. 12. 12.]\n",
      " [30. 30. 30.]\n",
      " [48. 48. 48.]]\n"
     ]
    }
   ],
   "source": [
    "#elementwise subtraction\n",
    "element_subtract = B - C\n",
    "print(\"Elementwise Subtraction:\\n\", element_subtract)\n",
    "\n",
    "#elementwise multiplication\n",
    "element_multiply = (B * C)\n",
    "print(\"Elementwise Multiplication:\\n\", element_multiply)\n",
    "\n",
    "#matrix multiplication\n",
    "matrix_multiply = B @ C\n",
    "print(\"Matrix Multiplication:\\n\",matrix_multiply)"
   ]
  },
  {
   "cell_type": "markdown",
   "id": "96030d53",
   "metadata": {},
   "source": [
    "### Do the following calculations on the matrix:\n",
    "* Exponentiate each number elementwise (use the np.exp function).\n",
    "\n",
    "* Calculate the minimum value in the whole matrix. \n",
    "* Calculcate the minimum value in each row. \n",
    "* Calculcate the minimum value in each column. \n",
    "\n",
    "\n",
    "* Find the index value for the minimum value in the whole matrix (hint: use np.argmin).\n",
    "* Find the index value for the minimum value in each row (hint: use np.argmin).\n",
    "\n",
    "\n",
    "* Calculate the sum for all elements.\n",
    "* Calculate the mean for each column. \n",
    "* Calculate the median for each column. "
   ]
  },
  {
   "cell_type": "code",
   "execution_count": 215,
   "id": "f8a9166b",
   "metadata": {
    "scrolled": true
   },
   "outputs": [
    {
     "name": "stdout",
     "output_type": "stream",
     "text": [
      "Matrix:\n",
      " [[1 2 3]\n",
      " [4 5 6]\n",
      " [7 8 9]]\n",
      "\n",
      "Matrix Exp:\n",
      " [[2.71828183e+00 7.38905610e+00 2.00855369e+01]\n",
      " [5.45981500e+01 1.48413159e+02 4.03428793e+02]\n",
      " [1.09663316e+03 2.98095799e+03 8.10308393e+03]]\n",
      "\n",
      "Minimum value element:\n",
      " 1\n",
      "\n",
      "Minium value in each row (axis):\n",
      " [1 4 7]\n",
      "\n",
      "Sum for all elements:\n",
      " 45\n",
      "\n",
      "Mean for all elements:\n",
      " 5.0\n",
      "\n",
      "Median for all elements:\n",
      " 5.0\n",
      "\n"
     ]
    }
   ],
   "source": [
    "import numpy as np\n",
    "B = np.arange(1, 10).reshape(3, 3)\n",
    "\n",
    "# elementvise exp\n",
    "A = np.exp(B)\n",
    "\n",
    "# minimum value in matrix B\n",
    "min_value = np.min(B)\n",
    "\n",
    "# minimun value in each row, Matrix B\n",
    "min_value_row_1 = np.min(B,axis=1)\n",
    "\n",
    "# sum for all elements\n",
    "sum_elements = np.sum(B)\n",
    "\n",
    "# mean for all elements\n",
    "mean_elements = np.mean(B)\n",
    "\n",
    "# median for all elements\n",
    "median_elements = np.median(B)\n",
    "\n",
    "print(f\"Matrix:\\n\",B)\n",
    "print()\n",
    "print(f\"Matrix Exp:\\n\",A)\n",
    "print()\n",
    "print(f\"Minimum value element:\\n\",min_value)\n",
    "print()\n",
    "print(f\"Minium value in each row (axis):\\n\",min_value_row_1)\n",
    "print()\n",
    "print(f\"Sum for all elements:\\n\",sum_elements)\n",
    "print()\n",
    "print(f\"Mean for all elements:\\n\",mean_elements)\n",
    "print()\n",
    "print(f\"Median for all elements:\\n\",median_elements)\n",
    "print()\n"
   ]
  },
  {
   "cell_type": "code",
   "execution_count": null,
   "id": "f03f24f7",
   "metadata": {},
   "outputs": [],
   "source": []
  },
  {
   "cell_type": "markdown",
   "id": "541eb7ba",
   "metadata": {},
   "source": [
    "### What does it mean when you provide fewer indices than axes when slicing? See example below."
   ]
  },
  {
   "cell_type": "code",
   "execution_count": 217,
   "id": "9c8abf56",
   "metadata": {},
   "outputs": [
    {
     "name": "stdout",
     "output_type": "stream",
     "text": [
      "[[2.71828183e+00 7.38905610e+00 2.00855369e+01]\n",
      " [5.45981500e+01 1.48413159e+02 4.03428793e+02]\n",
      " [1.09663316e+03 2.98095799e+03 8.10308393e+03]]\n"
     ]
    }
   ],
   "source": [
    "print(A)"
   ]
  },
  {
   "cell_type": "code",
   "execution_count": 219,
   "id": "69415f7b",
   "metadata": {},
   "outputs": [
    {
     "data": {
      "text/plain": [
       "array([ 54.59815003, 148.4131591 , 403.42879349])"
      ]
     },
     "execution_count": 219,
     "metadata": {},
     "output_type": "execute_result"
    }
   ],
   "source": [
    "A[1]"
   ]
  },
  {
   "cell_type": "markdown",
   "id": "6c53541b",
   "metadata": {},
   "source": [
    "**Answer:**"
   ]
  },
  {
   "cell_type": "code",
   "execution_count": null,
   "id": "de01e120",
   "metadata": {},
   "outputs": [],
   "source": [
    "You select one, or two, of the axis. In this case you select the second row (1) and only show that as a result. \n",
    "This is an effective way to slice information without altering the array."
   ]
  },
  {
   "cell_type": "markdown",
   "id": "6652d0c9",
   "metadata": {},
   "source": [
    "### Iterating over multidimensional arrays is done with respect to the first axis, so in the example below we iterate trough the rows. If you would like to iterate through the array *elementwise*, how would you do that?"
   ]
  },
  {
   "cell_type": "code",
   "execution_count": 231,
   "id": "9459864f",
   "metadata": {},
   "outputs": [
    {
     "name": "stdout",
     "output_type": "stream",
     "text": [
      "1\n",
      "2\n",
      "3\n",
      "4\n",
      "5\n",
      "6\n",
      "7\n",
      "8\n",
      "9\n",
      "10\n",
      "11\n",
      "12\n",
      "13\n",
      "14\n",
      "15\n"
     ]
    }
   ],
   "source": [
    "# create matrix\n",
    "A = np.arange(1, 16).reshape(3,5)\n",
    "\n",
    "for i in np.nditer(A):\n",
    "    print(i)"
   ]
  },
  {
   "cell_type": "code",
   "execution_count": null,
   "id": "f4e443a0",
   "metadata": {},
   "outputs": [],
   "source": []
  },
  {
   "cell_type": "markdown",
   "id": "608a2583",
   "metadata": {},
   "source": [
    "### Explain what the code below does. More specifically, b has three axes - what does this mean? "
   ]
  },
  {
   "cell_type": "code",
   "execution_count": 233,
   "id": "f8f9b26f",
   "metadata": {},
   "outputs": [
    {
     "name": "stdout",
     "output_type": "stream",
     "text": [
      "[ 0  1  2  3  4  5  6  7  8  9 10 11 12 13 14 15 16 17 18 19 20 21 22 23\n",
      " 24 25 26 27 28 29]\n",
      "\n",
      "[[[ 0  1  2  3  4]\n",
      "  [ 5  6  7  8  9]\n",
      "  [10 11 12 13 14]]\n",
      "\n",
      " [[15 16 17 18 19]\n",
      "  [20 21 22 23 24]\n",
      "  [25 26 27 28 29]]]\n"
     ]
    }
   ],
   "source": [
    "a = np.arange(30)\n",
    "b = a.reshape((2, 3, -1))\n",
    "print(a)\n",
    "print()\n",
    "\n",
    "print(b)"
   ]
  },
  {
   "cell_type": "code",
   "execution_count": null,
   "id": "e0afc8b3-e1fa-42ac-998e-fdc9c77c4624",
   "metadata": {},
   "outputs": [],
   "source": [
    "# Answer\n",
    "First a matrix is created with 30 instances and shaped into a matrix with 5 rows, 6 columns.\n",
    "The third axis (-1) means as many columns as needed are created."
   ]
  },
  {
   "cell_type": "code",
   "execution_count": null,
   "id": "eed38bbb-dd20-4d23-837f-679aa3d3a067",
   "metadata": {},
   "outputs": [],
   "source": []
  },
  {
   "cell_type": "markdown",
   "id": "421c9607-819a-401d-949a-97424436fe29",
   "metadata": {},
   "source": [
    "# For the exercises below, read the document *\"matematik_yh_antonio_vektorer_matriser_utdrag\"*\n",
    "# Solutions to the exercises and recorded videos can be found here: https://github.com/AntonioPrgomet/matematik_foer_yh\n",
    "\n",
    "# If you find the exercises below very hard, do not worry. Try your best, that will be enough. "
   ]
  },
  {
   "cell_type": "markdown",
   "id": "ab5933d5",
   "metadata": {},
   "source": [
    "### Broadcasting\n",
    "**Read the following link about broadcasting: https://numpy.org/doc/stable/user/basics.broadcasting.html#basics-broadcasting**"
   ]
  },
  {
   "cell_type": "markdown",
   "id": "039805ba",
   "metadata": {},
   "source": [
    "# Remark on Broadcasting when doing Linear Algebra calculations in Python. "
   ]
  },
  {
   "cell_type": "markdown",
   "id": "c4bcc147",
   "metadata": {},
   "source": [
    "### From the mathematical rules of matrix addition, the operation below (m1 + m2) does not make sense. The reason is that matrix addition requires two matrices of the same size. In Python however, it works due to broadcasting rules in NumPy. So you must be careful when doing Linear Algebra calculations in Python since they do not follow the \"mathematical rules\". This can however easily be handled by doing some simple programming, for example validating that two matrices have the same shape is easy if you for instance want to add two matrices. "
   ]
  },
  {
   "cell_type": "code",
   "execution_count": 11,
   "id": "1fd46778",
   "metadata": {},
   "outputs": [
    {
     "name": "stdout",
     "output_type": "stream",
     "text": [
      "[[2 3]\n",
      " [4 5]]\n"
     ]
    }
   ],
   "source": [
    "import numpy as np\n",
    "m1 = np.array([[1, 2], [3, 4]])\n",
    "m2 = np.array([1, 1])\n",
    "print(m1 + m2)"
   ]
  },
  {
   "cell_type": "markdown",
   "id": "047d6576",
   "metadata": {},
   "source": [
    "### The example below would also not be allowed if following the \"mathematical rules\" in Linear Algebra. But it works due to broadcasting in NumPy. "
   ]
  },
  {
   "cell_type": "code",
   "execution_count": 7,
   "id": "5e6ef2e4",
   "metadata": {},
   "outputs": [
    {
     "name": "stdout",
     "output_type": "stream",
     "text": [
      "[2 3 4]\n"
     ]
    }
   ],
   "source": [
    "v1 = np.array([1, 2, 3])\n",
    "print(v1 + 1)"
   ]
  },
  {
   "cell_type": "code",
   "execution_count": 9,
   "id": "e2cbae26",
   "metadata": {},
   "outputs": [
    {
     "name": "stdout",
     "output_type": "stream",
     "text": [
      "[[1 2]\n",
      " [3 4]]\n",
      "[2 2]\n"
     ]
    }
   ],
   "source": [
    "A = np.arange(1, 5).reshape(2,2)\n",
    "print(A)\n",
    "\n",
    "b = np.array([2, 2])\n",
    "print(b)"
   ]
  },
  {
   "cell_type": "markdown",
   "id": "722fd5cd",
   "metadata": {},
   "source": [
    "# Vector- and matrix algebra Exercises"
   ]
  },
  {
   "cell_type": "markdown",
   "id": "b63a3081-d976-4d9f-bfd0-a63917e79f7d",
   "metadata": {},
   "source": [
    "**Now you are going to create a function that can be reused every time you add or multiply matrices. The function is created so that we do the addition and multiplication according to the rules of vector- and matrix algebra.**\n",
    "\n",
    "**Create a function \"add_mult_matrices\" that takes two matrices as input arguments (validate that the input are of the type numpy.ndarray by using the isinstance function), a third argument that is either 'add' or 'multiply' that specifies if you want to add or multiply the matrices (validate that the third argument is either 'add' or 'multiply'). When doing matrix addition, validate that the matrices have the same size. When doing matrix multiplication, validate that the sizes conform (i.e. number of columns in the first matrix is equal to the number of rows in the second matrix).**"
   ]
  },
  {
   "cell_type": "code",
   "execution_count": null,
   "id": "3506f977-ac0a-473f-85bc-eec9f35dc498",
   "metadata": {},
   "outputs": [],
   "source": []
  },
  {
   "cell_type": "markdown",
   "id": "8dad82d0-2359-4dff-8f5b-a57d3e34103c",
   "metadata": {},
   "source": [
    "### Solve all the exercises in chapter 10.1 in the book \"Matematik för yrkeshögskolan\". "
   ]
  },
  {
   "cell_type": "code",
   "execution_count": 71,
   "id": "89df88af-3668-4d98-a0a4-e6d92eea0f89",
   "metadata": {},
   "outputs": [
    {
     "name": "stdout",
     "output_type": "stream",
     "text": [
      "Vector:\n",
      "[4 3]\n",
      "\n",
      "5x\n",
      "[20 15]\n",
      "\n",
      "3x\n",
      "[12  9]\n",
      "\n",
      "5x + 3x\n",
      "[32 24]\n",
      "\n",
      "8x\n",
      "[32 24]\n",
      "\n",
      "4x - x\n",
      "[12  9]\n",
      "\n",
      "Transposed vector\n",
      "[4 3]\n",
      "\n"
     ]
    }
   ],
   "source": [
    "# 10.1.1\n",
    "import numpy as np\n",
    "x=np.array([4,3])\n",
    "x\n",
    "\n",
    "#a What dimension has the vector x\n",
    "\n",
    "# a  \n",
    "# vector dimension is 1x2\n",
    "print (\"Vector:\")\n",
    "print (x)\n",
    "print ()\n",
    "\n",
    "#b Calculate 5x\n",
    "print (\"5x\")\n",
    "print (x*5)\n",
    "print ()\n",
    "\n",
    "#c Calculate 3x\n",
    "print (\"3x\")\n",
    "print (x*3)\n",
    "print ()\n",
    "\n",
    "#d Calculate 5x+3x\n",
    "print (\"5x + 3x\")\n",
    "print (x*(5+3))\n",
    "print ()\n",
    "\n",
    "#e Calculate 8x\n",
    "print (\"8x\")\n",
    "print (x*8)\n",
    "print ()\n",
    "\n",
    "#f Calulate 4x - x\n",
    "print (\"4x - x\")\n",
    "print ((x*4)-x)\n",
    "print ()\n",
    "\n",
    "# Calculate XT. What is the dimension after the tranposition\n",
    "xt=np.transpose(x)\n",
    "print (\"Transposed vector\")\n",
    "print (xt)\n",
    "print ()\n"
   ]
  },
  {
   "cell_type": "code",
   "execution_count": 133,
   "id": "5ebb43dd-bfb5-4427-9280-e8b328d7c595",
   "metadata": {},
   "outputs": [
    {
     "name": "stdout",
     "output_type": "stream",
     "text": [
      "Column vector:\n",
      "[[ 3]\n",
      " [ 7]\n",
      " [ 0]\n",
      " [11]]\n",
      "\n",
      "2v\n",
      "[[ 6]\n",
      " [14]\n",
      " [ 0]\n",
      " [22]]\n",
      "\n",
      "5v + 2v\n",
      "[[21]\n",
      " [49]\n",
      " [ 0]\n",
      " [77]]\n",
      "\n",
      "4v - 2v\n",
      "[[ 6]\n",
      " [14]\n",
      " [ 0]\n",
      " [22]]\n",
      "\n",
      "Transposed v\n",
      "[[ 3  7  0 11]]\n",
      "New dimension is 1x4\n",
      "\n",
      "||v||\n",
      "13.379088160259652\n",
      "\n"
     ]
    }
   ],
   "source": [
    "# 10.1.2\n",
    "import numpy as np\n",
    "v=np.array([3,7,0,11]).reshape(-1,1)\n",
    "print (\"Column vector:\")\n",
    "print (v)\n",
    "print ()\n",
    "#a What dimension has the vector?\n",
    "# The dimension is 4x1\n",
    "\n",
    "#b Calculate 2v\n",
    "print (\"2v\")\n",
    "print (2*v)\n",
    "print ()\n",
    "\n",
    "#c Calculate 5v + 2v\n",
    "print (\"5v + 2v\")\n",
    "print (v*(5+2))\n",
    "print ()\n",
    "\n",
    "#d Calculate 4v - 2v\n",
    "print (\"4v - 2v\")\n",
    "print (v*(4-2))\n",
    "print ()\n",
    "\n",
    "#e Calculate V|T\n",
    "vt=np.transpose(v)\n",
    "print (\"Transposed v\")\n",
    "print (vt)\n",
    "print (\"New dimension is 1x4\")\n",
    "print ()\n",
    "\n",
    "#f Calculate ||v||\n",
    "print (\"||v||\" (Norm of V))\n",
    "v_norm=np.linalg.norm(v)\n",
    "print (v_norm)\n",
    "print ()"
   ]
  },
  {
   "cell_type": "markdown",
   "id": "75c98984-1f88-4df1-b850-d2466de444a5",
   "metadata": {},
   "source": [
    "### Solve all the exercises, except 10.2.4, in chapter 10.2 in the book \"Matematik för yrkeshögskolan\". "
   ]
  },
  {
   "cell_type": "code",
   "execution_count": 30,
   "id": "65371610-16e1-48b2-b7fb-65e49002608a",
   "metadata": {},
   "outputs": [
    {
     "name": "stdout",
     "output_type": "stream",
     "text": [
      "||v1||\n",
      "7.14142842854285\n",
      "||v1-v2||\n",
      "4.47213595499958\n",
      "\n"
     ]
    }
   ],
   "source": [
    "# 10.1.3\n",
    "import numpy as np\n",
    "v1 = np.array([4,3,1,5])\n",
    "v2 = np.array([2,3,1,1])\n",
    "\n",
    "#a Calculate ||v1||\n",
    "v1_norm = np.linalg.norm(v1)\n",
    "v2_norm = np.linalg.norm(v2)\n",
    "v_difference = v1-v2\n",
    "v_res = np.linalg.norm(v_difference)\n",
    "\n",
    "print (\"||v1||\")\n",
    "print (v1_norm)\n",
    "print(\"||v1-v2||\")\n",
    "print (v_res)\n",
    "print ()"
   ]
  },
  {
   "cell_type": "markdown",
   "id": "6a4a524f",
   "metadata": {},
   "source": [
    "### Copies and Views\n",
    "Read the following link: https://numpy.org/doc/stable/user/basics.copies.html"
   ]
  },
  {
   "cell_type": "markdown",
   "id": "6cbbeaf7",
   "metadata": {},
   "source": [
    "**Basic indexing creates a view, How can you check if v1 and v2 is a view or copy? If you change the last element in v2 to 123, will the last element in v1 be changed? Why?**"
   ]
  },
  {
   "cell_type": "code",
   "execution_count": 32,
   "id": "5b9ef4df",
   "metadata": {},
   "outputs": [
    {
     "name": "stdout",
     "output_type": "stream",
     "text": [
      "[0 1 2 3]\n",
      "[2 3]\n"
     ]
    }
   ],
   "source": [
    "v1 = np.arange(4)\n",
    "v2 = v1[-2:]\n",
    "print(v1)\n",
    "print(v2)"
   ]
  },
  {
   "cell_type": "code",
   "execution_count": 38,
   "id": "7b6ddc20-3600-4cf2-81fb-2b4858d73f92",
   "metadata": {},
   "outputs": [
    {
     "name": "stdout",
     "output_type": "stream",
     "text": [
      "After change:\n",
      "v1: [0 1 2 5]\n",
      "v2: [2 5]\n",
      "\n"
     ]
    }
   ],
   "source": [
    "# If you change the last element in v2 the last element in v1 will also be changed. \n",
    "# This is because v2 is a view of v1 and share the same data buffer. Basic indexing creates views.\n",
    "\n",
    "# Change the last element in v2 \n",
    "v2[-1] = 5\n",
    "\n",
    "print (\"After change:\") \n",
    "print (\"v1:\", v1) \n",
    "print (\"v2:\", v2)\n",
    "print ()"
   ]
  },
  {
   "cell_type": "code",
   "execution_count": 40,
   "id": "d2440489",
   "metadata": {},
   "outputs": [
    {
     "name": "stdout",
     "output_type": "stream",
     "text": [
      "None\n",
      "[0 1 2 5]\n"
     ]
    }
   ],
   "source": [
    "# The base attribute of a view returns the original array while it returns None for a copy.\n",
    "print(v1.base)\n",
    "print(v2.base)"
   ]
  },
  {
   "cell_type": "code",
   "execution_count": 26,
   "id": "c8752807",
   "metadata": {},
   "outputs": [
    {
     "name": "stdout",
     "output_type": "stream",
     "text": [
      "[4 3 1 5]\n",
      "[  2   3   1 123]\n"
     ]
    }
   ],
   "source": [
    "# The last element in v1 will be changed aswell since v2 is a view, meaning they share the same data buffer.\n",
    "v2[-1] = 123\n",
    "print(v1)\n",
    "print(v2)"
   ]
  },
  {
   "cell_type": "code",
   "execution_count": null,
   "id": "3dd68221",
   "metadata": {},
   "outputs": [],
   "source": []
  }
 ],
 "metadata": {
  "kernelspec": {
   "display_name": "Python 3 (ipykernel)",
   "language": "python",
   "name": "python3"
  },
  "language_info": {
   "codemirror_mode": {
    "name": "ipython",
    "version": 3
   },
   "file_extension": ".py",
   "mimetype": "text/x-python",
   "name": "python",
   "nbconvert_exporter": "python",
   "pygments_lexer": "ipython3",
   "version": "3.12.4"
  }
 },
 "nbformat": 4,
 "nbformat_minor": 5
}
