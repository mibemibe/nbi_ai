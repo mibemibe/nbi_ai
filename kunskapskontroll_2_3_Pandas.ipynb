{
 "cells": [
  {
   "cell_type": "markdown",
   "id": "b540290b",
   "metadata": {},
   "source": [
    "# Pandas\n",
    "Read \"10 minutes to Pandas\": https://pandas.pydata.org/docs/user_guide/10min.html before solving the exercises.\n",
    "We will use the data set \"cars_data\" in the exercises below. "
   ]
  },
  {
   "cell_type": "markdown",
   "id": "addb587b",
   "metadata": {},
   "source": [
    "### Explain what a CSV file is."
   ]
  },
  {
   "cell_type": "code",
   "execution_count": 3,
   "id": "a0e5e393-0212-48b0-9d49-f1791136894c",
   "metadata": {},
   "outputs": [],
   "source": [
    "## Answer\n",
    "#\n",
    "### A CSV file is simply a file storing tabular data. Each value in the row is separated by a comma.\n",
    "### This type of file is normally used when exchanging data between different applications.\n",
    "# \n",
    "### Example of comma separated values (CSV)\n",
    "#### Name, Age, Height\n",
    "#### Anders, 7, 110\n",
    "#### Brad, 8, 115\n",
    "#### Cecilia, 8, 120\n",
    "#### David, 7, 100\n",
    "#### Erik, 7, 103\n",
    "#\n",
    "### Examples of use...\n",
    "### Applications like Excel has great functionality both importing and exporting CSV files.\n",
    "### Engineer software can import CSV-files and create curves or surfaces. \n",
    "### AI-modules can use this data to extract information."
   ]
  },
  {
   "cell_type": "markdown",
   "id": "5c61e5d9",
   "metadata": {},
   "source": [
    "### Load the data set \"cars_data\" through Pandas. "
   ]
  },
  {
   "cell_type": "code",
   "execution_count": 5,
   "id": "91923010",
   "metadata": {},
   "outputs": [],
   "source": [
    "# When reading in the data, either you have the data file in the same folder as your python script\n",
    "# or in a seperate folder.\n",
    "\n",
    "# Code below can be ran if you have the data file in the same folder as the script\n",
    "# cars = pd.read_csv(\"cars_data.csv\")\n",
    "\n",
    "# Code below can be ran if you have the data file in another script. \n",
    "# Notice, you must change the path according to where you have the data in your computer. \n",
    "\n",
    "import pandas as pd\n",
    "import numpy as np\n",
    "\n",
    "# data file is in same folder as python code\n",
    "data = pd.read_csv(r'cars_data.csv')\n",
    "\n",
    "# show all columns without any line break\n",
    "pd.set_option('display.max_columns', None) \n",
    "pd.set_option('display.expand_frame_repr',False)\n"
   ]
  },
  {
   "cell_type": "markdown",
   "id": "b9ac1d06",
   "metadata": {},
   "source": [
    "### Print the first 10 rows of the data. "
   ]
  },
  {
   "cell_type": "code",
   "execution_count": 7,
   "id": "2886ff8e",
   "metadata": {},
   "outputs": [
    {
     "name": "stdout",
     "output_type": "stream",
     "text": [
      "The first 10 rows...\n",
      "   index      company   body-style  wheel-base  length engine-type num-of-cylinders  horsepower  average-mileage    price\n",
      "0      0  alfa-romero  convertible        88.6   168.8        dohc             four         111               21  13495.0\n",
      "1      1  alfa-romero  convertible        88.6   168.8        dohc             four         111               21  16500.0\n",
      "2      2  alfa-romero    hatchback        94.5   171.2        ohcv              six         154               19  16500.0\n",
      "3      3         audi        sedan        99.8   176.6         ohc             four         102               24  13950.0\n",
      "4      4         audi        sedan        99.4   176.6         ohc             five         115               18  17450.0\n",
      "5      5         audi        sedan        99.8   177.3         ohc             five         110               19  15250.0\n",
      "6      6         audi        wagon       105.8   192.7         ohc             five         110               19  18920.0\n",
      "7      9          bmw        sedan       101.2   176.8         ohc             four         101               23  16430.0\n",
      "8     10          bmw        sedan       101.2   176.8         ohc             four         101               23  16925.0\n",
      "9     11          bmw        sedan       101.2   176.8         ohc              six         121               21  20970.0\n",
      "\n"
     ]
    }
   ],
   "source": [
    "print (\"The first 10 rows...\")\n",
    "print (data.head(10))\n",
    "print()"
   ]
  },
  {
   "cell_type": "markdown",
   "id": "ec02774b",
   "metadata": {},
   "source": [
    "### Print the last 5 rows. "
   ]
  },
  {
   "cell_type": "code",
   "execution_count": 9,
   "id": "437d158f",
   "metadata": {},
   "outputs": [
    {
     "name": "stdout",
     "output_type": "stream",
     "text": [
      "The last 5 rows...\n",
      "    index     company body-style  wheel-base  length engine-type num-of-cylinders  horsepower  average-mileage    price\n",
      "56     81  volkswagen      sedan        97.3   171.7         ohc             four          85               27   7975.0\n",
      "57     82  volkswagen      sedan        97.3   171.7         ohc             four          52               37   7995.0\n",
      "58     86  volkswagen      sedan        97.3   171.7         ohc             four         100               26   9995.0\n",
      "59     87       volvo      sedan       104.3   188.8         ohc             four         114               23  12940.0\n",
      "60     88       volvo      wagon       104.3   188.8         ohc             four         114               23  13415.0\n",
      "\n"
     ]
    }
   ],
   "source": [
    "print (\"The last 5 rows...\")\n",
    "print (data.tail(5))\n",
    "print ()"
   ]
  },
  {
   "cell_type": "markdown",
   "id": "e0cd9329",
   "metadata": {},
   "source": [
    "### By using the info method, check how many non-null rows each column have. "
   ]
  },
  {
   "cell_type": "code",
   "execution_count": 11,
   "id": "efe71f5f",
   "metadata": {},
   "outputs": [
    {
     "name": "stdout",
     "output_type": "stream",
     "text": [
      "\n",
      "<class 'pandas.core.frame.DataFrame'>\n",
      "RangeIndex: 61 entries, 0 to 60\n",
      "Data columns (total 10 columns):\n",
      " #   Column            Non-Null Count  Dtype  \n",
      "---  ------            --------------  -----  \n",
      " 0   index             61 non-null     int64  \n",
      " 1   company           61 non-null     object \n",
      " 2   body-style        61 non-null     object \n",
      " 3   wheel-base        61 non-null     float64\n",
      " 4   length            61 non-null     float64\n",
      " 5   engine-type       61 non-null     object \n",
      " 6   num-of-cylinders  61 non-null     object \n",
      " 7   horsepower        61 non-null     int64  \n",
      " 8   average-mileage   61 non-null     int64  \n",
      " 9   price             58 non-null     float64\n",
      "dtypes: float64(3), int64(3), object(4)\n",
      "memory usage: 4.9+ KB\n",
      "\n",
      "The column index,has 61 non null rows.\n",
      "The column company,has 61 non null rows.\n",
      "The column body-style,has 61 non null rows.\n",
      "The column wheel-base,has 61 non null rows.\n",
      "The column length,has 61 non null rows.\n",
      "The column engine-type,has 61 non null rows.\n",
      "The column num-of-cylinders,has 61 non null rows.\n",
      "The column horsepower,has 61 non null rows.\n",
      "The column average-mileage,has 61 non null rows.\n",
      "The column price,has 58 non null rows.\n"
     ]
    }
   ],
   "source": [
    "# how many non-null rows in each column?\n",
    "print ()\n",
    "data.info()\n",
    "print ()\n",
    "\n",
    "# alternative - make this a little easier to read\n",
    "for col in data.columns:\n",
    "    no_null_cnt = data[col].notnull().sum()\n",
    "    print(f\"The column {col},has {no_null_cnt} non null rows.\")"
   ]
  },
  {
   "cell_type": "markdown",
   "id": "887f8c9c",
   "metadata": {},
   "source": [
    "### If any column has a missing value, drop the entire row. Notice, the operation should be inplace meaning you change the dataframe itself."
   ]
  },
  {
   "cell_type": "code",
   "execution_count": 13,
   "id": "60b660dc",
   "metadata": {},
   "outputs": [
    {
     "name": "stdout",
     "output_type": "stream",
     "text": [
      "   index      company   body-style  wheel-base  length engine-type num-of-cylinders  horsepower  average-mileage    price\n",
      "0      0  alfa-romero  convertible        88.6   168.8        dohc             four         111               21  13495.0\n",
      "1      1  alfa-romero  convertible        88.6   168.8        dohc             four         111               21  16500.0\n",
      "2      2  alfa-romero    hatchback        94.5   171.2        ohcv              six         154               19  16500.0\n",
      "3      3         audi        sedan        99.8   176.6         ohc             four         102               24  13950.0\n",
      "4      4         audi        sedan        99.4   176.6         ohc             five         115               18  17450.0\n"
     ]
    }
   ],
   "source": [
    "data.dropna(inplace=True)\n",
    "print (data.head())"
   ]
  },
  {
   "cell_type": "markdown",
   "id": "614eeffe",
   "metadata": {},
   "source": [
    "### Calculate the mean of each numeric column. "
   ]
  },
  {
   "cell_type": "code",
   "execution_count": 15,
   "id": "49e06c7c",
   "metadata": {},
   "outputs": [
    {
     "name": "stdout",
     "output_type": "stream",
     "text": [
      "index                 40.827586\n",
      "wheel-base            98.620690\n",
      "length               173.646552\n",
      "horsepower           106.051724\n",
      "average-mileage       25.534483\n",
      "price              15387.000000\n",
      "dtype: float64\n"
     ]
    }
   ],
   "source": [
    "# find the numeric columns only\n",
    "mean_val = data.mean(numeric_only=True)\n",
    "print (mean_val)"
   ]
  },
  {
   "cell_type": "markdown",
   "id": "f4f79bfd",
   "metadata": {},
   "source": [
    "### Select the rows where the column \"company\" is equal to 'honda'. "
   ]
  },
  {
   "cell_type": "code",
   "execution_count": 17,
   "id": "1e373079",
   "metadata": {},
   "outputs": [
    {
     "name": "stdout",
     "output_type": "stream",
     "text": [
      "    index company body-style  wheel-base  length engine-type num-of-cylinders  horsepower  average-mileage    price\n",
      "18     27   honda      wagon        96.5   157.1         ohc             four          76               30   7295.0\n",
      "19     28   honda      sedan        96.5   175.4         ohc             four         101               24  12945.0\n",
      "20     29   honda      sedan        96.5   169.1         ohc             four         100               25  10345.0\n"
     ]
    }
   ],
   "source": [
    "honda_rows = data[data['company']=='honda']\n",
    "print (honda_rows)"
   ]
  },
  {
   "cell_type": "markdown",
   "id": "0a3543eb",
   "metadata": {},
   "source": [
    "### Sort the data set by price in descending order. This should *not* be an inplace operation. "
   ]
  },
  {
   "cell_type": "code",
   "execution_count": 19,
   "id": "8455abaa",
   "metadata": {},
   "outputs": [
    {
     "name": "stdout",
     "output_type": "stream",
     "text": [
      "    index        company   body-style  wheel-base  length engine-type num-of-cylinders  horsepower  average-mileage    price\n",
      "35     47  mercedes-benz      hardtop       112.0   199.2        ohcv            eight         184               14  45400.0\n",
      "11     14            bmw        sedan       103.5   193.8         ohc              six         182               16  41315.0\n",
      "34     46  mercedes-benz        sedan       120.9   208.1        ohcv            eight         184               14  40960.0\n",
      "46     62        porsche  convertible        89.5   168.9        ohcf              six         207               17  37028.0\n",
      "12     15            bmw        sedan       110.0   197.0         ohc              six         182               15  36880.0\n",
      "26     35         jaguar        sedan       102.0   191.7        ohcv           twelve         262               13  36000.0\n",
      "25     34         jaguar        sedan       113.0   199.6        dohc              six         176               15  35550.0\n",
      "45     61        porsche      hardtop        89.5   168.9        ohcf              six         207               17  34028.0\n",
      "24     33         jaguar        sedan       113.0   199.6        dohc              six         176               15  32250.0\n",
      "10     13            bmw        sedan       103.5   189.0         ohc              six         182               16  30760.0\n"
     ]
    }
   ],
   "source": [
    "sort_data_desc = data.sort_values(by='price', ascending=False)\n",
    "\n",
    "# show first 10 row in sorted dataset\n",
    "print (sort_data_desc.head(10))"
   ]
  },
  {
   "cell_type": "markdown",
   "id": "1527f255",
   "metadata": {},
   "source": [
    "### Select the rows where the column \"company\" is equal to any of the values (audi, bmw, porsche)."
   ]
  },
  {
   "cell_type": "code",
   "execution_count": 21,
   "id": "60e300ae",
   "metadata": {},
   "outputs": [
    {
     "name": "stdout",
     "output_type": "stream",
     "text": [
      "    index  company   body-style  wheel-base  length engine-type num-of-cylinders  horsepower  average-mileage    price\n",
      "3       3     audi        sedan        99.8   176.6         ohc             four         102               24  13950.0\n",
      "4       4     audi        sedan        99.4   176.6         ohc             five         115               18  17450.0\n",
      "5       5     audi        sedan        99.8   177.3         ohc             five         110               19  15250.0\n",
      "6       6     audi        wagon       105.8   192.7         ohc             five         110               19  18920.0\n",
      "7       9      bmw        sedan       101.2   176.8         ohc             four         101               23  16430.0\n",
      "8      10      bmw        sedan       101.2   176.8         ohc             four         101               23  16925.0\n",
      "9      11      bmw        sedan       101.2   176.8         ohc              six         121               21  20970.0\n",
      "10     13      bmw        sedan       103.5   189.0         ohc              six         182               16  30760.0\n",
      "11     14      bmw        sedan       103.5   193.8         ohc              six         182               16  41315.0\n",
      "12     15      bmw        sedan       110.0   197.0         ohc              six         182               15  36880.0\n",
      "45     61  porsche      hardtop        89.5   168.9        ohcf              six         207               17  34028.0\n",
      "46     62  porsche  convertible        89.5   168.9        ohcf              six         207               17  37028.0\n"
     ]
    }
   ],
   "source": [
    "# select rows where column \"company\" equals \"audi\", \"bmw\" or \"porsche\" \n",
    "selected_rows = data[data['company'].isin(['audi', 'bmw', 'porsche'])]\n",
    "print (selected_rows)"
   ]
  },
  {
   "cell_type": "code",
   "execution_count": 22,
   "id": "2b34573e-0f51-43a9-96fc-83043e077dda",
   "metadata": {},
   "outputs": [
    {
     "name": "stdout",
     "output_type": "stream",
     "text": [
      "company\n",
      "alfa-romero      3\n",
      "audi             4\n",
      "bmw              6\n",
      "chevrolet        3\n",
      "dodge            2\n",
      "honda            3\n",
      "isuzu            1\n",
      "jaguar           3\n",
      "mazda            5\n",
      "mercedes-benz    4\n",
      "mitsubishi       4\n",
      "nissan           5\n",
      "porsche          2\n",
      "toyota           7\n",
      "volkswagen       4\n",
      "volvo            2\n",
      "dtype: int64\n"
     ]
    }
   ],
   "source": [
    "### Find the number of cars (rows) for each company. \n",
    "\n",
    "# use 'groupby' to find specified column\n",
    "company_c = data.groupby('company').size()\n",
    "print(company_c)"
   ]
  },
  {
   "cell_type": "markdown",
   "id": "5beef62f",
   "metadata": {},
   "source": [
    "### Find the maximum price for each company. "
   ]
  },
  {
   "cell_type": "code",
   "execution_count": 24,
   "id": "d91dc8be",
   "metadata": {},
   "outputs": [
    {
     "name": "stdout",
     "output_type": "stream",
     "text": [
      "company\n",
      "alfa-romero      16500.0\n",
      "audi             18920.0\n",
      "bmw              41315.0\n",
      "chevrolet         6575.0\n",
      "dodge             6377.0\n",
      "honda            12945.0\n",
      "isuzu             6785.0\n",
      "jaguar           36000.0\n",
      "mazda            18344.0\n",
      "mercedes-benz    45400.0\n",
      "mitsubishi        8189.0\n",
      "nissan           13499.0\n",
      "porsche          37028.0\n",
      "toyota           15750.0\n",
      "volkswagen        9995.0\n",
      "volvo            13415.0\n",
      "Name: price, dtype: float64\n"
     ]
    }
   ],
   "source": [
    "# use 'groupby' to find specified column\n",
    "company_maxprice = data.groupby('company')['price'].max()\n",
    "print(company_maxprice)\n"
   ]
  },
  {
   "cell_type": "code",
   "execution_count": 25,
   "id": "91d04604-e821-42a5-ab04-26a71e3f23f0",
   "metadata": {},
   "outputs": [],
   "source": [
    "# complete"
   ]
  }
 ],
 "metadata": {
  "kernelspec": {
   "display_name": "Python 3 (ipykernel)",
   "language": "python",
   "name": "python3"
  },
  "language_info": {
   "codemirror_mode": {
    "name": "ipython",
    "version": 3
   },
   "file_extension": ".py",
   "mimetype": "text/x-python",
   "name": "python",
   "nbconvert_exporter": "python",
   "pygments_lexer": "ipython3",
   "version": "3.12.4"
  }
 },
 "nbformat": 4,
 "nbformat_minor": 5
}
